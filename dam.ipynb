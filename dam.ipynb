{
 "cells": [
  {
   "cell_type": "code",
   "execution_count": 3,
   "metadata": {},
   "outputs": [],
   "source": [
    "from shapely.geometry import Point, Polygon\n",
    "\n",
    "def create_gravity_dam_mask(H, \n",
    "                            W, \n",
    "                            slope_up, \n",
    "                            slope_dn, \n",
    "                            ratio_up,\n",
    "                            ratio_dn, \n",
    "                            Nx=200, \n",
    "                            Ny=200):\n",
    "    \"\"\"\n",
    "    根据给定参数生成混凝土重力坝的二维蒙版。\n",
    "\n",
    "    参数：\n",
    "    ----------\n",
    "    H : float\n",
    "        坝高\n",
    "    W : float\n",
    "        坝顶宽度\n",
    "    slope_up : float\n",
    "        上游边坡（水平位移/竖向位移）\n",
    "    slope_dn : float\n",
    "        下游边坡（水平位移/竖向位移）\n",
    "    ratio_up : float\n",
    "        上游斜面占坝高的比例（0~1之间）\n",
    "    ratio_dn : float\n",
    "        下游斜面占坝高的比例（0~1之间）\n",
    "    Nx, Ny : int\n",
    "        x 和 y 方向网格离散数\n",
    "\n",
    "    返回：\n",
    "    ----------\n",
    "    mask : 2D numpy array of shape (Ny, Nx)\n",
    "        布尔型蒙版，True/1 表示网格点位于坝体内部，False/0 表示外部\n",
    "    X : 1D numpy array of shape (Nx,)\n",
    "        x方向坐标序列\n",
    "    Y : 1D numpy array of shape (Ny,)\n",
    "        y方向坐标序列\n",
    "    \"\"\"\n",
    "\n",
    "    # --- 1. 计算多边形顶点 ---\n",
    "    # 上游侧底脚点和分段点的 x 坐标\n",
    "    x1 = - slope_up * (1 - ratio_up) * H\n",
    "    x2 = W + slope_dn * ratio_dn * H\n",
    "\n",
    "    # 顶点按逆时针方向\n",
    "    P1 = (x1, 0.0)                         # 上游侧底脚点\n",
    "    P2 = (0.0, ratio_up * H)                # 上游侧分段点\n",
    "    P3 = (0.0, H)                          # 坝顶左上角\n",
    "    P4 = (W,   H)                          # 坝顶右上角\n",
    "    P5 = (W, ratio_dn * H)                 # 下游侧分段点\n",
    "    P6 = (x2, 0.0)                         # 下游侧底脚点\n",
    "\n",
    "    dam_polygon = Polygon([P1, P2, P3, P4, P5, P6])\n",
    "    return dam_polygon"
   ]
  },
  {
   "cell_type": "code",
   "execution_count": 5,
   "metadata": {},
   "outputs": [
    {
     "data": {
      "image/svg+xml": [
       "<svg xmlns=\"http://www.w3.org/2000/svg\" xmlns:xlink=\"http://www.w3.org/1999/xlink\" width=\"100.0\" height=\"100.0\" viewBox=\"-11.0 -2.0 42.0 54.0\" preserveAspectRatio=\"xMinYMin meet\"><g transform=\"matrix(1,0,0,-1,0,50.0)\"><path fill-rule=\"evenodd\" fill=\"#66cc99\" stroke=\"#555555\" stroke-width=\"1.08\" opacity=\"0.6\" d=\"M -9.0,0.0 L 0.0,20.0 L 0.0,50.0 L 5.0,50.0 L 5.0,40.0 L 29.0,0.0 L -9.0,0.0 z\" /></g></svg>"
      ],
      "text/plain": [
       "<POLYGON ((-9 0, 0 20, 0 50, 5 50, 5 40, 29 0, -9 0))>"
      ]
     },
     "execution_count": 5,
     "metadata": {},
     "output_type": "execute_result"
    }
   ],
   "source": [
    "# 示例调用\n",
    "H = 50           # 坝高\n",
    "W = 5            # 坝顶宽\n",
    "slope_up = 0.3   # 上游边坡\n",
    "slope_dn = 0.6   # 下游边坡\n",
    "ratio_up = 0.4   # 上游斜面占坝高的比例\n",
    "ratio_dn = 0.8   # 下游斜面占坝高的比例\n",
    "Nx, Ny = 200, 200\n",
    "\n",
    "dam_polygon = create_gravity_dam_mask(H, W, slope_up, slope_dn, ratio_up, ratio_dn, Nx, Ny)\n",
    "dam_polygon"
   ]
  },
  {
   "cell_type": "code",
   "execution_count": 8,
   "metadata": {},
   "outputs": [
    {
     "data": {
      "text/plain": [
       "(-9.0, 0.0, 29.0, 50.0)"
      ]
     },
     "execution_count": 8,
     "metadata": {},
     "output_type": "execute_result"
    }
   ],
   "source": [
    "dam_polygon.bounds"
   ]
  }
 ],
 "metadata": {
  "kernelspec": {
   "display_name": "base",
   "language": "python",
   "name": "python3"
  },
  "language_info": {
   "codemirror_mode": {
    "name": "ipython",
    "version": 3
   },
   "file_extension": ".py",
   "mimetype": "text/x-python",
   "name": "python",
   "nbconvert_exporter": "python",
   "pygments_lexer": "ipython3",
   "version": "3.11.5"
  }
 },
 "nbformat": 4,
 "nbformat_minor": 2
}
